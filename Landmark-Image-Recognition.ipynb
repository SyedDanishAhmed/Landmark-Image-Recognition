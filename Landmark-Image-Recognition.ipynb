{
 "cells": [
  {
   "cell_type": "markdown",
   "metadata": {},
   "source": [
    "#### Importing the required packages"
   ]
  },
  {
   "cell_type": "code",
   "execution_count": 45,
   "metadata": {},
   "outputs": [],
   "source": [
    "from __future__ import print_function, division\n",
    "\n",
    "import pandas as pd\n",
    "import os\n",
    "import shutil\n",
    "\n",
    "import torch\n",
    "import torch.nn as nn\n",
    "import torch.optim as optim\n",
    "from torch.optim import lr_scheduler\n",
    "import numpy as np\n",
    "import torchvision\n",
    "from torchvision import datasets, models, transforms\n",
    "import matplotlib.pyplot as plt\n",
    "import time\n",
    "import os\n",
    "import copy\n",
    "\n",
    "plt.ion()   # interactive mode"
   ]
  },
  {
   "cell_type": "markdown",
   "metadata": {},
   "source": [
    "#### Importing and storing the train and test files"
   ]
  },
  {
   "cell_type": "code",
   "execution_count": 1,
   "metadata": {},
   "outputs": [],
   "source": [
    "# Importing the train file and renaming columns\n",
    "train_file_path = '95-891-hw3/HW3_train.csv'\n",
    "train_data = pd.read_csv(train_file_path, header = None)\n",
    "train_data.columns = ['columns_id', 'url', 'landmark_id']\n",
    "\n",
    "# Creating a dictionary for storing image identifier and landmark identifier\n",
    "train_image_names = train_data['columns_id']\n",
    "train_image_labels = train_data['landmark_id']\n",
    "train_image_names_list = train_image_names.to_list()\n",
    "train_image_labels_list = train_image_labels.to_list()\n",
    "train_data_dict = dict(zip(train_image_names_list, train_image_labels_list))\n",
    "\n",
    "# Importing the train file and renaming columns\n",
    "test_file_path = '95-891-hw3/HW3_test.csv'\n",
    "test_data = pd.read_csv(test_file_path, header = None)\n",
    "test_data.columns = ['columns_id', 'url', 'landmark_id']\n",
    "\n",
    "# Creating a dictionary for storing image identifier and landmark identifier\n",
    "test_image_names = test_data['columns_id']\n",
    "test_image_labels = test_data['landmark_id']\n",
    "test_image_names_list = test_image_names.to_list()\n",
    "test_image_labels_list = test_image_labels.to_list()\n",
    "test_data_dict = dict(zip(test_image_names_list, test_image_labels_list))"
   ]
  },
  {
   "cell_type": "markdown",
   "metadata": {},
   "source": [
    "#### Identifying and storing the train images"
   ]
  },
  {
   "cell_type": "code",
   "execution_count": 9,
   "metadata": {},
   "outputs": [],
   "source": [
    "all_images_folder_path = \"95-891-hw3/images\"\n",
    "train_destination_folder = \"images1/train\"\n",
    "\n",
    "all_files = os.listdir(all_images_folder_path)\n",
    "\n",
    "for image_all in all_files:\n",
    "    for image_train in train_data_dict.keys():\n",
    "        if image_all.strip().startswith(image_train.strip()):\n",
    "            full_path_to_file = all_images_folder_path + '/' + image_all.strip()\n",
    "            train_destination_path = train_destination_folder + '/' + str(train_data_dict[image_train])\n",
    "            shutil.copy(full_path_to_file, train_destination_path)"
   ]
  },
  {
   "cell_type": "markdown",
   "metadata": {},
   "source": [
    "#### Identifying and storing the validation images"
   ]
  },
  {
   "cell_type": "code",
   "execution_count": 11,
   "metadata": {},
   "outputs": [],
   "source": [
    "test_destination_folder = \"images1/val\"\n",
    "\n",
    "for image_all in all_files:\n",
    "    for image_test in test_data_dict.keys():\n",
    "        if image_all.strip().startswith(image_test.strip()):\n",
    "            full_path_to_file = all_images_folder_path + '/' + image_all.strip()\n",
    "            test_destination_path = test_destination_folder + '/' + str(test_data_dict[image_test])\n",
    "            shutil.copy(full_path_to_file, test_destination_path)"
   ]
  },
  {
   "cell_type": "markdown",
   "metadata": {},
   "source": [
    "#### Loading the normalizing the data"
   ]
  },
  {
   "cell_type": "code",
   "execution_count": 46,
   "metadata": {},
   "outputs": [],
   "source": [
    "# Data augmentation and normalization for training\n",
    "# Just normalization for validation\n",
    "data_transforms = {\n",
    "    'train': transforms.Compose([\n",
    "        transforms.RandomResizedCrop(224),\n",
    "        transforms.RandomHorizontalFlip(),\n",
    "        transforms.ToTensor(),\n",
    "        transforms.Normalize([0.485, 0.456, 0.406], [0.229, 0.224, 0.225])\n",
    "    ]),\n",
    "    'val': transforms.Compose([\n",
    "        transforms.Resize(256),\n",
    "        transforms.CenterCrop(224),\n",
    "        transforms.ToTensor(),\n",
    "        transforms.Normalize([0.485, 0.456, 0.406], [0.229, 0.224, 0.225])\n",
    "    ]),\n",
    "}\n",
    "\n",
    "data_dir = 'images1'\n",
    "image_datasets = {x: datasets.ImageFolder(os.path.join(data_dir, x),\n",
    "                                          data_transforms[x])\n",
    "                  for x in ['train', 'val']}\n",
    "dataloaders = {x: torch.utils.data.DataLoader(image_datasets[x], batch_size=30,\n",
    "                                             shuffle=True, num_workers=4)\n",
    "              for x in ['train', 'val']}\n",
    "dataset_sizes = {x: len(image_datasets[x]) for x in ['train', 'val']}\n",
    "class_names = image_datasets['train'].classes\n",
    "\n",
    "device = torch.device(\"cuda:0\" if torch.cuda.is_available() else \"cpu\")"
   ]
  },
  {
   "cell_type": "markdown",
   "metadata": {},
   "source": [
    "#### Function for training the model"
   ]
  },
  {
   "cell_type": "code",
   "execution_count": 47,
   "metadata": {},
   "outputs": [],
   "source": [
    "def train_model(model, criterion, optimizer, scheduler, num_epochs=25):\n",
    "    since = time.time()\n",
    "\n",
    "    best_model_wts = copy.deepcopy(model.state_dict())\n",
    "    best_acc = 0.0\n",
    "\n",
    "    for epoch in range(num_epochs):\n",
    "        print('Epoch {}/{}'.format(epoch, num_epochs - 1))\n",
    "        print('-' * 10)\n",
    "\n",
    "        # Each epoch has a training and validation phase\n",
    "        for phase in ['train', 'val']:\n",
    "            if phase == 'train':\n",
    "                model.train()  # Set model to training mode\n",
    "            else:\n",
    "                model.eval()   # Set model to evaluate mode\n",
    "\n",
    "            running_loss = 0.0\n",
    "            running_corrects = 0\n",
    "\n",
    "            # Iterate over data.\n",
    "            for inputs, labels in dataloaders[phase]:\n",
    "                inputs = inputs.to(device)\n",
    "                labels = labels.to(device)\n",
    "\n",
    "                # zero the parameter gradients\n",
    "                optimizer.zero_grad()\n",
    "\n",
    "                # forward\n",
    "                # track history if only in train\n",
    "                with torch.set_grad_enabled(phase == 'train'):\n",
    "                    outputs = model(inputs)\n",
    "                    _, preds = torch.max(outputs, 1)\n",
    "                    loss = criterion(outputs, labels)\n",
    "\n",
    "                    # backward + optimize only if in training phase\n",
    "                    if phase == 'train':\n",
    "                        loss.backward()\n",
    "                        optimizer.step()\n",
    "\n",
    "                # statistics\n",
    "                running_loss += loss.item() * inputs.size(0)\n",
    "                running_corrects += torch.sum(preds == labels.data)\n",
    "            if phase == 'train':\n",
    "                scheduler.step()\n",
    "\n",
    "            epoch_loss = running_loss / dataset_sizes[phase]\n",
    "            epoch_acc = running_corrects.double() / dataset_sizes[phase]\n",
    "\n",
    "            print('{} Loss: {:.4f} Acc: {:.4f}'.format(\n",
    "                phase, epoch_loss, epoch_acc))\n",
    "\n",
    "            # deep copy the model\n",
    "            if phase == 'val' and epoch_acc > best_acc:\n",
    "                best_acc = epoch_acc\n",
    "                best_model_wts = copy.deepcopy(model.state_dict())\n",
    "\n",
    "        print()\n",
    "\n",
    "    time_elapsed = time.time() - since\n",
    "    print('Training complete in {:.0f}m {:.0f}s'.format(\n",
    "        time_elapsed // 60, time_elapsed % 60))\n",
    "    print('Best val Acc: {:4f}'.format(best_acc))\n",
    "\n",
    "    # load best model weights\n",
    "    model.load_state_dict(best_model_wts)\n",
    "    return model"
   ]
  },
  {
   "cell_type": "markdown",
   "metadata": {},
   "source": [
    "#### Loading the pretrained resnet18 model"
   ]
  },
  {
   "cell_type": "code",
   "execution_count": 48,
   "metadata": {},
   "outputs": [],
   "source": [
    "model_conv = torchvision.models.resnet18(pretrained=True)\n",
    "for param in model_conv.parameters():\n",
    "    param.requires_grad = False\n",
    "\n",
    "# Parameters of newly constructed modules have requires_grad=True by default\n",
    "num_ftrs = model_conv.fc.in_features\n",
    "model_conv.fc = nn.Linear(num_ftrs, len(class_names))\n",
    "\n",
    "model_conv = model_conv.to(device)\n",
    "\n",
    "criterion = nn.CrossEntropyLoss()\n",
    "\n",
    "# Observe that only parameters of final layer are being optimized as\n",
    "# opposed to before.\n",
    "optimizer_conv = optim.SGD(model_conv.fc.parameters(), lr=0.01, momentum=0.9)\n",
    "\n",
    "# Decay LR by a factor of 0.1 every 7 epochs\n",
    "exp_lr_scheduler = lr_scheduler.StepLR(optimizer_conv, step_size=7, gamma=0.1)"
   ]
  },
  {
   "cell_type": "markdown",
   "metadata": {},
   "source": [
    "#### Calling the function to train the model"
   ]
  },
  {
   "cell_type": "code",
   "execution_count": null,
   "metadata": {},
   "outputs": [],
   "source": [
    "model_conv = train_model(model_conv, criterion, optimizer_conv,\n",
    "                         exp_lr_scheduler, num_epochs=25)"
   ]
  },
  {
   "cell_type": "markdown",
   "metadata": {},
   "source": [
    "#### Saving the model object to a file"
   ]
  },
  {
   "cell_type": "code",
   "execution_count": 34,
   "metadata": {},
   "outputs": [],
   "source": [
    "torch.save(model_conv, \"full_landmark_model.pt\")"
   ]
  },
  {
   "cell_type": "markdown",
   "metadata": {},
   "source": [
    "#### Loading the model from the file"
   ]
  },
  {
   "cell_type": "code",
   "execution_count": 49,
   "metadata": {},
   "outputs": [],
   "source": [
    "model_full = torch.load('full_landmark_model.pt', map_location=torch.device('cpu'))"
   ]
  },
  {
   "cell_type": "markdown",
   "metadata": {},
   "source": [
    "#### Computing the confusion matrix on validation data"
   ]
  },
  {
   "cell_type": "code",
   "execution_count": 50,
   "metadata": {},
   "outputs": [
    {
     "name": "stdout",
     "output_type": "stream",
     "text": [
      "tensor([[325.,   0.,   3.,   5.,   1.,   0.,   2.,   0.,   1.,   4.],\n",
      "        [  0., 383.,   0.,   0.,   1.,   0.,   0.,   5.,   2.,   1.],\n",
      "        [  2.,   1., 324.,   8.,   8.,   0.,   6.,   3.,   3.,   6.],\n",
      "        [ 13.,   0.,   3., 303.,   3.,   0.,   6.,   3.,   3.,   5.],\n",
      "        [  3.,   1.,   6.,   1., 303.,   0.,   6.,  19.,   5.,   1.],\n",
      "        [  0.,   2.,   2.,   0.,   1., 327.,   2.,   1.,   1.,   1.],\n",
      "        [  0.,   0.,   1.,   3.,   9.,   0., 276.,   9.,   2.,   9.],\n",
      "        [  0.,   1.,   4.,   0.,  19.,   1.,   9., 275.,   6.,   1.],\n",
      "        [  2.,   3.,   1.,   9.,  26.,   1.,   5.,  15., 268.,   2.],\n",
      "        [  1.,   0.,   1.,   3.,   0.,   2.,   1.,   0.,   1., 236.]])\n"
     ]
    }
   ],
   "source": [
    "nb_classes = 10\n",
    "\n",
    "confusion_matrix = torch.zeros(nb_classes, nb_classes)\n",
    "with torch.no_grad():\n",
    "    for i, (inputs, classes) in enumerate(dataloaders['val']):\n",
    "        inputs = inputs.to(device)\n",
    "        classes = classes.to(device)\n",
    "        outputs = model_full(inputs)\n",
    "        _, preds = torch.max(outputs, 1)\n",
    "        for t, p in zip(classes.view(-1), preds.view(-1)):\n",
    "            confusion_matrix[t.long(), p.long()] += 1\n",
    "\n",
    "print(confusion_matrix)"
   ]
  },
  {
   "cell_type": "markdown",
   "metadata": {},
   "source": [
    "#### Normalized confusion matrix"
   ]
  },
  {
   "cell_type": "code",
   "execution_count": 60,
   "metadata": {},
   "outputs": [
    {
     "name": "stdout",
     "output_type": "stream",
     "text": [
      "tensor([[0.9393, 0.0000, 0.0087, 0.0151, 0.0027, 0.0000, 0.0064, 0.0000, 0.0034,\n",
      "         0.0150],\n",
      "        [0.0000, 0.9795, 0.0000, 0.0000, 0.0027, 0.0000, 0.0000, 0.0152, 0.0068,\n",
      "         0.0038],\n",
      "        [0.0058, 0.0026, 0.9391, 0.0241, 0.0216, 0.0000, 0.0192, 0.0091, 0.0103,\n",
      "         0.0226],\n",
      "        [0.0376, 0.0000, 0.0087, 0.9127, 0.0081, 0.0000, 0.0192, 0.0091, 0.0103,\n",
      "         0.0188],\n",
      "        [0.0087, 0.0026, 0.0174, 0.0030, 0.8167, 0.0000, 0.0192, 0.0576, 0.0171,\n",
      "         0.0038],\n",
      "        [0.0000, 0.0051, 0.0058, 0.0000, 0.0027, 0.9879, 0.0064, 0.0030, 0.0034,\n",
      "         0.0038],\n",
      "        [0.0000, 0.0000, 0.0029, 0.0090, 0.0243, 0.0000, 0.8818, 0.0273, 0.0068,\n",
      "         0.0338],\n",
      "        [0.0000, 0.0026, 0.0116, 0.0000, 0.0512, 0.0030, 0.0288, 0.8333, 0.0205,\n",
      "         0.0038],\n",
      "        [0.0058, 0.0077, 0.0029, 0.0271, 0.0701, 0.0030, 0.0160, 0.0455, 0.9178,\n",
      "         0.0075],\n",
      "        [0.0029, 0.0000, 0.0029, 0.0090, 0.0000, 0.0060, 0.0032, 0.0000, 0.0034,\n",
      "         0.8872]])\n"
     ]
    }
   ],
   "source": [
    "normalized_confusion_matrix = confusion_matrix/confusion_matrix.sum(0)\n",
    "print(normalized_confusion_matrix)"
   ]
  },
  {
   "cell_type": "markdown",
   "metadata": {},
   "source": [
    "#### Test accuracy"
   ]
  },
  {
   "cell_type": "code",
   "execution_count": 53,
   "metadata": {},
   "outputs": [
    {
     "name": "stdout",
     "output_type": "stream",
     "text": [
      "Test accuracy: 0.9104612469673157\n"
     ]
    }
   ],
   "source": [
    "print('Test accuracy:',(confusion_matrix.diag().sum()/confusion_matrix.sum()).tolist())"
   ]
  },
  {
   "cell_type": "markdown",
   "metadata": {},
   "source": [
    "#### Calculating the precision"
   ]
  },
  {
   "cell_type": "code",
   "execution_count": 55,
   "metadata": {},
   "outputs": [
    {
     "data": {
      "text/html": [
       "<div>\n",
       "<style scoped>\n",
       "    .dataframe tbody tr th:only-of-type {\n",
       "        vertical-align: middle;\n",
       "    }\n",
       "\n",
       "    .dataframe tbody tr th {\n",
       "        vertical-align: top;\n",
       "    }\n",
       "\n",
       "    .dataframe thead th {\n",
       "        text-align: right;\n",
       "    }\n",
       "</style>\n",
       "<table border=\"1\" class=\"dataframe\">\n",
       "  <thead>\n",
       "    <tr style=\"text-align: right;\">\n",
       "      <th></th>\n",
       "      <th>landmarks id</th>\n",
       "      <th>precision</th>\n",
       "    </tr>\n",
       "  </thead>\n",
       "  <tbody>\n",
       "    <tr>\n",
       "      <th>0</th>\n",
       "      <td>0</td>\n",
       "      <td>0.939306</td>\n",
       "    </tr>\n",
       "    <tr>\n",
       "      <th>1</th>\n",
       "      <td>1</td>\n",
       "      <td>0.979540</td>\n",
       "    </tr>\n",
       "    <tr>\n",
       "      <th>2</th>\n",
       "      <td>2</td>\n",
       "      <td>0.939130</td>\n",
       "    </tr>\n",
       "    <tr>\n",
       "      <th>3</th>\n",
       "      <td>3</td>\n",
       "      <td>0.912651</td>\n",
       "    </tr>\n",
       "    <tr>\n",
       "      <th>4</th>\n",
       "      <td>4</td>\n",
       "      <td>0.816712</td>\n",
       "    </tr>\n",
       "    <tr>\n",
       "      <th>5</th>\n",
       "      <td>5</td>\n",
       "      <td>0.987915</td>\n",
       "    </tr>\n",
       "    <tr>\n",
       "      <th>6</th>\n",
       "      <td>6</td>\n",
       "      <td>0.881789</td>\n",
       "    </tr>\n",
       "    <tr>\n",
       "      <th>7</th>\n",
       "      <td>7</td>\n",
       "      <td>0.833333</td>\n",
       "    </tr>\n",
       "    <tr>\n",
       "      <th>8</th>\n",
       "      <td>8</td>\n",
       "      <td>0.917808</td>\n",
       "    </tr>\n",
       "    <tr>\n",
       "      <th>9</th>\n",
       "      <td>9</td>\n",
       "      <td>0.887218</td>\n",
       "    </tr>\n",
       "  </tbody>\n",
       "</table>\n",
       "</div>"
      ],
      "text/plain": [
       "   landmarks id  precision\n",
       "0             0   0.939306\n",
       "1             1   0.979540\n",
       "2             2   0.939130\n",
       "3             3   0.912651\n",
       "4             4   0.816712\n",
       "5             5   0.987915\n",
       "6             6   0.881789\n",
       "7             7   0.833333\n",
       "8             8   0.917808\n",
       "9             9   0.887218"
      ]
     },
     "execution_count": 55,
     "metadata": {},
     "output_type": "execute_result"
    }
   ],
   "source": [
    "# Precision = TP / (TP + FP)\n",
    "precision_list = []\n",
    "for i in range(len(confusion_matrix)):\n",
    "    true_positive = confusion_matrix[i][i]\n",
    "    false_positive = 0\n",
    "    for j in range(len(confusion_matrix)):\n",
    "        if i != j:\n",
    "            false_positive += confusion_matrix[j][i]\n",
    "    precision = true_positive / (true_positive + false_positive)\n",
    "    precision_list.append(precision.tolist())\n",
    "\n",
    "landmarks = list(range(10))\n",
    "precision_df = pd.DataFrame(\n",
    "    {'landmarks id': landmarks,\n",
    "     'precision': precision_list,\n",
    "    })\n",
    "precision_df"
   ]
  },
  {
   "cell_type": "markdown",
   "metadata": {},
   "source": [
    "#### Calculating the recall"
   ]
  },
  {
   "cell_type": "code",
   "execution_count": 56,
   "metadata": {},
   "outputs": [
    {
     "data": {
      "text/html": [
       "<div>\n",
       "<style scoped>\n",
       "    .dataframe tbody tr th:only-of-type {\n",
       "        vertical-align: middle;\n",
       "    }\n",
       "\n",
       "    .dataframe tbody tr th {\n",
       "        vertical-align: top;\n",
       "    }\n",
       "\n",
       "    .dataframe thead th {\n",
       "        text-align: right;\n",
       "    }\n",
       "</style>\n",
       "<table border=\"1\" class=\"dataframe\">\n",
       "  <thead>\n",
       "    <tr style=\"text-align: right;\">\n",
       "      <th></th>\n",
       "      <th>landmarks id</th>\n",
       "      <th>recall</th>\n",
       "    </tr>\n",
       "  </thead>\n",
       "  <tbody>\n",
       "    <tr>\n",
       "      <th>0</th>\n",
       "      <td>0</td>\n",
       "      <td>0.953079</td>\n",
       "    </tr>\n",
       "    <tr>\n",
       "      <th>1</th>\n",
       "      <td>1</td>\n",
       "      <td>0.977041</td>\n",
       "    </tr>\n",
       "    <tr>\n",
       "      <th>2</th>\n",
       "      <td>2</td>\n",
       "      <td>0.897507</td>\n",
       "    </tr>\n",
       "    <tr>\n",
       "      <th>3</th>\n",
       "      <td>3</td>\n",
       "      <td>0.893805</td>\n",
       "    </tr>\n",
       "    <tr>\n",
       "      <th>4</th>\n",
       "      <td>4</td>\n",
       "      <td>0.878261</td>\n",
       "    </tr>\n",
       "    <tr>\n",
       "      <th>5</th>\n",
       "      <td>5</td>\n",
       "      <td>0.970326</td>\n",
       "    </tr>\n",
       "    <tr>\n",
       "      <th>6</th>\n",
       "      <td>6</td>\n",
       "      <td>0.893204</td>\n",
       "    </tr>\n",
       "    <tr>\n",
       "      <th>7</th>\n",
       "      <td>7</td>\n",
       "      <td>0.870253</td>\n",
       "    </tr>\n",
       "    <tr>\n",
       "      <th>8</th>\n",
       "      <td>8</td>\n",
       "      <td>0.807229</td>\n",
       "    </tr>\n",
       "    <tr>\n",
       "      <th>9</th>\n",
       "      <td>9</td>\n",
       "      <td>0.963265</td>\n",
       "    </tr>\n",
       "  </tbody>\n",
       "</table>\n",
       "</div>"
      ],
      "text/plain": [
       "   landmarks id    recall\n",
       "0             0  0.953079\n",
       "1             1  0.977041\n",
       "2             2  0.897507\n",
       "3             3  0.893805\n",
       "4             4  0.878261\n",
       "5             5  0.970326\n",
       "6             6  0.893204\n",
       "7             7  0.870253\n",
       "8             8  0.807229\n",
       "9             9  0.963265"
      ]
     },
     "execution_count": 56,
     "metadata": {},
     "output_type": "execute_result"
    }
   ],
   "source": [
    "# Recall = TP / (TP + FN)\n",
    "recall_list = []\n",
    "for i in range(len(confusion_matrix)):\n",
    "    true_positive = confusion_matrix[i][i]\n",
    "    false_negative = confusion_matrix[i].sum() - confusion_matrix[i][i]\n",
    "    recall = true_positive / (true_positive + false_negative)\n",
    "    recall_list.append(recall.tolist())\n",
    "\n",
    "landmarks = list(range(10))\n",
    "recall_df = pd.DataFrame(\n",
    "    {'landmarks id': landmarks,\n",
    "     'recall': recall_list,\n",
    "    })\n",
    "recall_df"
   ]
  },
  {
   "cell_type": "markdown",
   "metadata": {},
   "source": [
    "#### Plot the precision and recall values"
   ]
  },
  {
   "cell_type": "code",
   "execution_count": 57,
   "metadata": {},
   "outputs": [
    {
     "data": {
      "text/plain": [
       "<matplotlib.axes._subplots.AxesSubplot at 0x29ec35226d8>"
      ]
     },
     "execution_count": 57,
     "metadata": {},
     "output_type": "execute_result"
    },
    {
     "data": {
      "image/png": "[encoded data removed]",
      "text/plain": [
       "<Figure size 432x288 with 1 Axes>"
      ]
     },
     "metadata": {
      "needs_background": "light"
     },
     "output_type": "display_data"
    }
   ],
   "source": [
    "pr = pd.DataFrame(\n",
    "    {'precision': precision_list,\n",
    "     'recall': recall_list,\n",
    "    })\n",
    "pr.plot.bar()"
   ]
  },
  {
   "cell_type": "markdown",
   "metadata": {},
   "source": [
    "#### References\n",
    "- https://pytorch.org/tutorials/beginner/transfer_learning_tutorial.html"
   ]
  },
  {
   "cell_type": "markdown",
   "metadata": {},
   "source": [
    "#### Note\n",
    "- The model was trained on Collab and saved in a file. This model file was then loaded in the notebook on local to get the required metrics."
   ]
  }
 ],
 "metadata": {
  "kernelspec": {
   "display_name": "Python 3",
   "language": "python",
   "name": "python3"
  },
  "language_info": {
   "codemirror_mode": {
    "name": "ipython",
    "version": 3
   },
   "file_extension": ".py",
   "mimetype": "text/x-python",
   "name": "python",
   "nbconvert_exporter": "python",
   "pygments_lexer": "ipython3",
   "version": "3.7.3"
  }
 },
 "nbformat": 4,
 "nbformat_minor": 2
}
